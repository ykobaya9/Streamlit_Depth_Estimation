{
 "cells": [
  {
   "cell_type": "code",
   "execution_count": 1,
   "id": "9f2b3714",
   "metadata": {},
   "outputs": [],
   "source": [
    "import pandas as pd\n",
    "import numpy as np\n",
    "import scipy.stats as sc"
   ]
  },
  {
   "cell_type": "code",
   "execution_count": 9,
   "id": "c579cf33",
   "metadata": {},
   "outputs": [],
   "source": [
    "responses = pd.read_csv(\"Interpretable_Depth_Estimation_Data - Sheet1.csv\")"
   ]
  },
  {
   "cell_type": "code",
   "execution_count": 3,
   "id": "27cfaae3",
   "metadata": {},
   "outputs": [],
   "source": [
    "errors = pd.read_csv(\"estimated_errors.csv\")"
   ]
  },
  {
   "cell_type": "code",
   "execution_count": 10,
   "id": "50cddded",
   "metadata": {},
   "outputs": [
    {
     "name": "stdout",
     "output_type": "stream",
     "text": [
      "   Unnamed: 0  Unnamed: 1                           Unnamed: 2  \\\n",
      "1        20.0         1.0  [\"008\", \"014\", \"002\", \"001\", \"010\"]   \n",
      "2     11111.0         0.0  [\"013\", \"010\", \"006\", \"002\", \"007\"]   \n",
      "3     15984.0         1.0  [\"001\", \"002\", \"012\", \"004\", \"011\"]   \n",
      "4     11112.0         0.0  [\"004\", \"009\", \"016\", \"015\", \"005\"]   \n",
      "5        50.0         1.0  [\"003\", \"009\", \"008\", \"007\", \"001\"]   \n",
      "6     11113.0         1.0  [\"006\", \"012\", \"011\", \"013\", \"016\"]   \n",
      "7     11115.0         0.0  [\"005\", \"010\", \"011\", \"014\", \"013\"]   \n",
      "\n",
      "                                          Unnamed: 3 Unnamed: 4 Unnamed: 5  \\\n",
      "1  [\"005\", \"003\", \"012\", \"009\", \"006\", \"013\", \"00...   Sample B   Sample B   \n",
      "2  [\"004\", \"011\", \"016\", \"003\", \"014\", \"009\", \"01...   Sample B   Sample B   \n",
      "3  [\"010\", \"008\", \"005\", \"003\", \"006\", \"015\", \"01...   Sample B   Sample B   \n",
      "4  [\"002\", \"010\", \"014\", \"007\", \"001\", \"013\", \"01...   Sample B   Sample B   \n",
      "5  [\"002\", \"010\", \"016\", \"013\", \"011\", \"004\", \"01...   Sample B   Sample B   \n",
      "6  [\"015\", \"003\", \"002\", \"007\", \"001\", \"008\", \"01...   Sample B   Sample B   \n",
      "7  [\"004\", \"006\", \"016\", \"002\", \"003\", \"009\", \"01...   Sample B   Sample B   \n",
      "\n",
      "  Unnamed: 6 Unnamed: 7 Unnamed: 8        Unnamed: 9       Unnamed: 10  \\\n",
      "1   Sample A   Sample A   Sample A       Easy to use           Average   \n",
      "2   Sample A   Sample A   Sample B       Easy to use       Unconfident   \n",
      "3   Sample A   Sample A   Sample B  Very easy to use         Confident   \n",
      "4   Sample A   Sample A   Sample A           Average  Very Unconfident   \n",
      "5   Sample B   Sample B   Sample B  Difficult to use       Unconfident   \n",
      "6   Sample B   Sample B   Sample B  Very easy to use         Confident   \n",
      "7   Sample B   Sample A   Sample A           Average         Confident   \n",
      "\n",
      "   Unnamed: 11       Unnamed: 12  \n",
      "1      Average  Very experienced  \n",
      "2      Average  Very experienced  \n",
      "3    Confident  Very experienced  \n",
      "4  Unconfident  Very experienced  \n",
      "5  Unconfident           Average  \n",
      "6    Confident           Average  \n",
      "7  Unconfident           Average  \n"
     ]
    }
   ],
   "source": [
    "responses = responses.dropna()\n",
    "print(responses)"
   ]
  },
  {
   "cell_type": "code",
   "execution_count": 18,
   "id": "4fc39f98",
   "metadata": {},
   "outputs": [],
   "source": [
    "interp = responses[responses['Unnamed: 1'] == 1]\n",
    "non_interp = responses[responses['Unnamed: 1'] == 0]"
   ]
  },
  {
   "cell_type": "code",
   "execution_count": 12,
   "id": "b504631f",
   "metadata": {},
   "outputs": [],
   "source": [
    "questions = interp['Unnamed: 3'].values\n",
    "answer_list = ['Unnamed: 4', 'Unnamed: 5', 'Unnamed: 6', 'Unnamed: 7', 'Unnamed: 8']\n",
    "answers = interp[answer_list]"
   ]
  },
  {
   "cell_type": "code",
   "execution_count": 13,
   "id": "2d47564f",
   "metadata": {},
   "outputs": [],
   "source": [
    "interp_accs = []\n",
    "for j in range(len(questions)):\n",
    "    question_list = questions[j].strip('][').split(', ')\n",
    "    acc = 0\n",
    "    count = 0\n",
    "    error_list = []\n",
    "    for i, image in enumerate(question_list):\n",
    "        file_id = int(image.strip('\\\"'))\n",
    "        error = errors[errors['file_id'].astype(int) == file_id]\n",
    "        error = error['error_est'].values\n",
    "        error_list.append(error)\n",
    "        if i % 2 == 1:\n",
    "            a = error_list[0]\n",
    "            b = error_list[1]\n",
    "            answer = 0\n",
    "            if b > a:\n",
    "                answer = 1\n",
    "\n",
    "            pred = answers[answer_list[count]].iloc[j]\n",
    "            if pred == 'Sample B' and answer == 1:\n",
    "                acc += 1\n",
    "            elif pred == 'Sample A' and answer == 0:\n",
    "                acc += 1\n",
    "            error_list = []\n",
    "            count += 1\n",
    "    \n",
    "    acc = acc / 5\n",
    "    interp_accs.append(acc)"
   ]
  },
  {
   "cell_type": "code",
   "execution_count": 14,
   "id": "c97ffe7a",
   "metadata": {},
   "outputs": [
    {
     "name": "stdout",
     "output_type": "stream",
     "text": [
      "[0.4, 0.6, 0.8, 0.6]\n",
      "0.6\n"
     ]
    }
   ],
   "source": [
    "print(interp_accs)\n",
    "print(np.mean(interp_accs))"
   ]
  },
  {
   "cell_type": "code",
   "execution_count": 20,
   "id": "0eccdb5d",
   "metadata": {},
   "outputs": [
    {
     "name": "stdout",
     "output_type": "stream",
     "text": [
      "[0.2, 0.6, 0.2]\n",
      "0.3333333333333333\n"
     ]
    }
   ],
   "source": [
    "non_interp_accs = []\n",
    "\n",
    "questions = non_interp['Unnamed: 3'].values\n",
    "answer_list = ['Unnamed: 4', 'Unnamed: 5', 'Unnamed: 6', 'Unnamed: 7', 'Unnamed: 8']\n",
    "answers = non_interp[answer_list]\n",
    "\n",
    "for j in range(len(questions)):\n",
    "    question_list = questions[j].strip('][').split(', ')\n",
    "    acc = 0\n",
    "    count = 0\n",
    "    error_list = []\n",
    "    for i, image in enumerate(question_list):\n",
    "        file_id = int(image.strip('\\\"'))\n",
    "        error = errors[errors['file_id'].astype(int) == file_id]\n",
    "        error = error['error_est'].values\n",
    "        error_list.append(error)\n",
    "        if i % 2 == 1:\n",
    "            a = error_list[0]\n",
    "            b = error_list[1]\n",
    "            answer = 0\n",
    "            if b > a:\n",
    "                answer = 1\n",
    "\n",
    "            pred = answers[answer_list[count]].iloc[j]\n",
    "            if pred == 'Sample B' and answer == 1:\n",
    "                acc += 1\n",
    "            elif pred == 'Sample A' and answer == 0:\n",
    "                acc += 1\n",
    "            error_list = []\n",
    "            count += 1\n",
    "    \n",
    "    acc = acc / 5\n",
    "    non_interp_accs.append(acc)\n",
    "    \n",
    "print(non_interp_accs)\n",
    "print(np.mean(non_interp_accs))"
   ]
  },
  {
   "cell_type": "code",
   "execution_count": 21,
   "id": "c71fdc01",
   "metadata": {},
   "outputs": [],
   "source": [
    "test = sc.ttest_ind(interp_accs, non_interp_accs)"
   ]
  },
  {
   "cell_type": "code",
   "execution_count": 22,
   "id": "d1bdd68c",
   "metadata": {},
   "outputs": [
    {
     "name": "stdout",
     "output_type": "stream",
     "text": [
      "Ttest_indResult(statistic=1.8070158058105024, pvalue=0.1305729770769558)\n"
     ]
    }
   ],
   "source": [
    "print(test)"
   ]
  },
  {
   "cell_type": "code",
   "execution_count": 65,
   "id": "2b248d3f",
   "metadata": {},
   "outputs": [
    {
     "name": "stdout",
     "output_type": "stream",
     "text": [
      "[0, 1, 1, 0, 1, 1, 0, 1]\n"
     ]
    }
   ],
   "source": [
    "experience = responses.iloc[7:]['experience']\n",
    "experience.replace('No experience', 0, inplace=True)\n",
    "experience.replace('Average', 0, inplace=True)\n",
    "experience.replace('Relatively experienced', 1, inplace=True)\n",
    "experience.replace('Very experienced', 1, inplace=True)\n",
    "experience.replace('Expert', 1, inplace=True)\n",
    "experience = experience.tolist()"
   ]
  },
  {
   "cell_type": "code",
   "execution_count": 69,
   "id": "9b775ed8",
   "metadata": {},
   "outputs": [
    {
     "name": "stderr",
     "output_type": "stream",
     "text": [
      "/Users/yutakobayashi/anaconda3/envs/ml_env/lib/python3.9/site-packages/pandas/core/series.py:5258: SettingWithCopyWarning: \n",
      "A value is trying to be set on a copy of a slice from a DataFrame\n",
      "\n",
      "See the caveats in the documentation: https://pandas.pydata.org/pandas-docs/stable/user_guide/indexing.html#returning-a-view-versus-a-copy\n",
      "  self._update_inplace(result)\n"
     ]
    }
   ],
   "source": [
    "confidence = responses.iloc[7:]['task_confidence']\n",
    "confidence.replace('Very Unconfident', 0, inplace=True)\n",
    "confidence.replace('Unconfident', 0, inplace=True)\n",
    "confidence.replace('Average', np.NaN, inplace=True)\n",
    "confidence.replace('Confident', 1, inplace=True)\n",
    "confidence.replace('Very Confident', 1, inplace=True)\n",
    "confidence.dropna(inplace=True)\n",
    "confidence = confidence.tolist()"
   ]
  },
  {
   "cell_type": "code",
   "execution_count": 70,
   "id": "75c0077d",
   "metadata": {},
   "outputs": [
    {
     "data": {
      "text/plain": [
       "[0, 1, 1, 0, 0, 1, 0]"
      ]
     },
     "execution_count": 70,
     "metadata": {},
     "output_type": "execute_result"
    }
   ],
   "source": [
    "confidence"
   ]
  },
  {
   "cell_type": "code",
   "execution_count": null,
   "id": "7af018d0",
   "metadata": {},
   "outputs": [],
   "source": []
  }
 ],
 "metadata": {
  "kernelspec": {
   "display_name": "Python 3 (ipykernel)",
   "language": "python",
   "name": "python3"
  },
  "language_info": {
   "codemirror_mode": {
    "name": "ipython",
    "version": 3
   },
   "file_extension": ".py",
   "mimetype": "text/x-python",
   "name": "python",
   "nbconvert_exporter": "python",
   "pygments_lexer": "ipython3",
   "version": "3.8.15"
  }
 },
 "nbformat": 4,
 "nbformat_minor": 5
}
