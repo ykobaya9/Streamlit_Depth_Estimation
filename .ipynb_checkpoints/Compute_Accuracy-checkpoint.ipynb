{
 "cells": [
  {
   "cell_type": "code",
   "execution_count": 45,
   "id": "9f2b3714",
   "metadata": {},
   "outputs": [],
   "source": [
    "import pandas as pd\n",
    "import numpy as np\n",
    "import scipy.stats as sc"
   ]
  },
  {
   "cell_type": "code",
   "execution_count": 46,
   "id": "c579cf33",
   "metadata": {},
   "outputs": [],
   "source": [
    "responses = pd.read_csv(\"Monocular_Depth_Estimation_Data - Sheet1.csv\")"
   ]
  },
  {
   "cell_type": "code",
   "execution_count": 47,
   "id": "27cfaae3",
   "metadata": {},
   "outputs": [],
   "source": [
    "errors = pd.read_csv(\"estimated_errors.csv\")"
   ]
  },
  {
   "cell_type": "code",
   "execution_count": 48,
   "id": "50cddded",
   "metadata": {},
   "outputs": [],
   "source": [
    "responses = responses.dropna()"
   ]
  },
  {
   "cell_type": "code",
   "execution_count": 49,
   "id": "4fc39f98",
   "metadata": {},
   "outputs": [],
   "source": [
    "interp = responses[responses['assigned_interpretable'] == 1]\n",
    "non_interp = responses[responses['assigned_interpretable'] == 0]"
   ]
  },
  {
   "cell_type": "code",
   "execution_count": 61,
   "id": "b504631f",
   "metadata": {},
   "outputs": [
    {
     "name": "stdout",
     "output_type": "stream",
     "text": [
      "7     0\n",
      "8     1\n",
      "10    0\n",
      "11    1\n",
      "12    1\n",
      "Name: experience, dtype: int64\n"
     ]
    }
   ],
   "source": [
    "questions = interp['question_imgs'].values\n",
    "answer_list = ['question_1', 'question_2', 'question_3', 'question_4', 'question_5']\n",
    "answers = interp[answer_list]"
   ]
  },
  {
   "cell_type": "code",
   "execution_count": 59,
   "id": "2d47564f",
   "metadata": {},
   "outputs": [
    {
     "name": "stdout",
     "output_type": "stream",
     "text": [
      "[22.66072746] [164.45444663]\n",
      "[112.65638166] [84.62733789]\n",
      "[20.70676122] [101.20430013]\n",
      "[39.92585881] [65.05500181]\n",
      "[46.33328485] [148.22226924]\n",
      "[20.70676122] [77.23844124]\n",
      "[84.62733789] [106.2091274]\n",
      "[130.94094475] [39.92585881]\n",
      "[183.37632526] [164.45444663]\n",
      "[148.22226924] [37.22709316]\n",
      "[183.37632526] [44.77091492]\n",
      "[46.33328485] [112.65638166]\n",
      "[106.2091274] [65.05500181]\n",
      "[148.22226924] [20.70676122]\n",
      "[77.23844124] [37.22709316]\n"
     ]
    }
   ],
   "source": [
    "interp_accs = []\n",
    "for j in range(len(questions)):\n",
    "    question_list = questions[j].strip('][').split(', ')\n",
    "    acc = 0\n",
    "    count = 0\n",
    "    error_list = []\n",
    "    for i, image in enumerate(question_list):\n",
    "        file_id = int(image.strip('\\\"'))\n",
    "        error = errors[errors['file_id'].astype(int) == file_id]\n",
    "        error = error['error_est'].values\n",
    "        error_list.append(error)\n",
    "        if i % 2 == 1:\n",
    "            a = error_list[0]\n",
    "            b = error_list[1]\n",
    "            answer = 0\n",
    "            if b > a:\n",
    "                answer = 1\n",
    "\n",
    "            pred = answers[answer_list[count]].iloc[j]\n",
    "            if pred == 'Sample B' and answer == 1:\n",
    "                acc += 1\n",
    "            elif pred == 'Sample A' and answer == 0:\n",
    "                acc += 1\n",
    "            error_list = []\n",
    "            count += 1\n",
    "    \n",
    "    acc = acc / 5\n",
    "    interp_accs.append(acc)"
   ]
  },
  {
   "cell_type": "code",
   "execution_count": 57,
   "id": "c97ffe7a",
   "metadata": {},
   "outputs": [
    {
     "name": "stdout",
     "output_type": "stream",
     "text": [
      "[0.4, 0.2, 0.6, 0.2, 0.4]\n",
      "0.36000000000000004\n"
     ]
    }
   ],
   "source": [
    "print(interp_accs)\n",
    "print(np.mean(interp_accs))"
   ]
  },
  {
   "cell_type": "code",
   "execution_count": 58,
   "id": "0eccdb5d",
   "metadata": {},
   "outputs": [
    {
     "name": "stdout",
     "output_type": "stream",
     "text": [
      "[1.0, 0.4, 0.2]\n",
      "0.5333333333333333\n"
     ]
    }
   ],
   "source": [
    "non_interp_accs = []\n",
    "\n",
    "questions = non_interp['question_imgs'].values\n",
    "answer_list = ['question_1', 'question_2', 'question_3', 'question_4', 'question_5']\n",
    "answers = interp[answer_list]\n",
    "\n",
    "for j in range(len(questions)):\n",
    "    question_list = questions[j].strip('][').split(', ')\n",
    "    acc = 0\n",
    "    count = 0\n",
    "    error_list = []\n",
    "    for i, image in enumerate(question_list):\n",
    "        file_id = int(image.strip('\\\"'))\n",
    "        error = errors[errors['file_id'].astype(int) == file_id]\n",
    "        error = error['error_est'].values\n",
    "        error_list.append(error)\n",
    "        if i % 2 == 1:\n",
    "            a = error_list[0]\n",
    "            b = error_list[1]\n",
    "            answer = 0\n",
    "            if b > a:\n",
    "                answer = 1\n",
    "\n",
    "            pred = answers[answer_list[count]].iloc[j]\n",
    "            if pred == 'Sample B' and answer == 1:\n",
    "                acc += 1\n",
    "            elif pred == 'Sample A' and answer == 0:\n",
    "                acc += 1\n",
    "            error_list = []\n",
    "            count += 1\n",
    "    \n",
    "    acc = acc / 5\n",
    "    non_interp_accs.append(acc)\n",
    "    \n",
    "print(non_interp_accs)\n",
    "print(np.mean(non_interp_accs))"
   ]
  },
  {
   "cell_type": "code",
   "execution_count": 54,
   "id": "c71fdc01",
   "metadata": {},
   "outputs": [],
   "source": [
    "test = sc.ttest_ind(interp_accs, non_interp_accs)"
   ]
  },
  {
   "cell_type": "code",
   "execution_count": 55,
   "id": "d1bdd68c",
   "metadata": {},
   "outputs": [
    {
     "name": "stdout",
     "output_type": "stream",
     "text": [
      "Ttest_indResult(statistic=-0.8584396336674831, pvalue=0.42361114077591167)\n"
     ]
    }
   ],
   "source": [
    "print(test)"
   ]
  },
  {
   "cell_type": "code",
   "execution_count": 67,
   "id": "4a55e68d",
   "metadata": {},
   "outputs": [
    {
     "name": "stdout",
     "output_type": "stream",
     "text": [
      "    session_id  assigned_interpretable                         example_imgs  \\\n",
      "0        10000                       0  [\"007\", \"015\", \"011\", \"005\", \"012\"]   \n",
      "1        10001                       0  [\"014\", \"013\", \"011\", \"015\", \"007\"]   \n",
      "2        10002                       1  [\"004\", \"014\", \"005\", \"016\", \"006\"]   \n",
      "3        10004                       1  [\"016\", \"011\", \"012\", \"003\", \"014\"]   \n",
      "4        10005                       0  [\"002\", \"013\", \"008\", \"003\", \"005\"]   \n",
      "5        10006                       0  [\"014\", \"016\", \"005\", \"004\", \"009\"]   \n",
      "6        10007                       1  [\"005\", \"011\", \"004\", \"015\", \"002\"]   \n",
      "7        23333                       1  [\"016\", \"010\", \"002\", \"004\", \"014\"]   \n",
      "8        21314                       1  [\"013\", \"004\", \"005\", \"008\", \"002\"]   \n",
      "9        20001                       0  [\"002\", \"005\", \"012\", \"001\", \"006\"]   \n",
      "10       29956                       1  [\"013\", \"005\", \"003\", \"004\", \"007\"]   \n",
      "11       20101                       1  [\"001\", \"002\", \"005\", \"013\", \"009\"]   \n",
      "12       20202                       1  [\"003\", \"011\", \"001\", \"005\", \"008\"]   \n",
      "13       23456                       0  [\"010\", \"001\", \"009\", \"007\", \"011\"]   \n",
      "16       22222                       0  [\"011\", \"016\", \"004\", \"007\", \"013\"]   \n",
      "\n",
      "                                        question_imgs question_1 question_2  \\\n",
      "0   [\"009\", \"010\", \"004\", \"006\", \"003\", \"016\", \"01...   Sample A   Sample B   \n",
      "1   [\"012\", \"003\", \"002\", \"016\", \"008\", \"006\", \"01...   Sample B   Sample A   \n",
      "2   [\"002\", \"001\", \"009\", \"008\", \"003\", \"010\", \"01...   Sample B   Sample A   \n",
      "3   [\"015\", \"008\", \"010\", \"007\", \"001\", \"013\", \"00...   Sample B   Sample A   \n",
      "4   [\"010\", \"012\", \"006\", \"007\", \"011\", \"009\", \"01...   Sample B   Sample B   \n",
      "5   [\"002\", \"010\", \"011\", \"006\", \"003\", \"013\", \"00...   Sample A   Sample A   \n",
      "6   [\"003\", \"012\", \"001\", \"014\", \"008\", \"006\", \"01...   Sample A   Sample A   \n",
      "7   [\"011\", \"012\", \"003\", \"013\", \"015\", \"007\", \"00...   Sample B   Sample A   \n",
      "8   [\"006\", \"007\", \"003\", \"012\", \"009\", \"011\", \"01...   Sample A   Sample A   \n",
      "9   [\"011\", \"004\", \"010\", \"014\", \"015\", \"007\", \"01...   Sample A   Sample A   \n",
      "10  [\"015\", \"012\", \"016\", \"009\", \"011\", \"008\", \"00...   Sample A   Sample A   \n",
      "11  [\"008\", \"016\", \"015\", \"004\", \"011\", \"006\", \"01...   Sample B   Sample A   \n",
      "12  [\"006\", \"004\", \"013\", \"014\", \"016\", \"007\", \"01...   Sample A   Sample B   \n",
      "13  [\"015\", \"006\", \"014\", \"005\", \"013\", \"016\", \"00...   Sample B   Sample A   \n",
      "16  [\"002\", \"001\", \"003\", \"010\", \"005\", \"009\", \"00...   Sample A   Sample A   \n",
      "\n",
      "   question_3 question_4 question_5         usability  model_confidence  \\\n",
      "0    Sample A   Sample A   Sample B  Difficult to use  Very Unconfident   \n",
      "1    Sample B   Sample B   Sample B       Easy to use         Confident   \n",
      "2    Sample A   Sample A   Sample B           Average       Unconfident   \n",
      "3    Sample B   Sample B   Sample A       Easy to use  Very Unconfident   \n",
      "4    Sample A   Sample A   Sample A       Easy to use       Unconfident   \n",
      "5    Sample A   Sample B   Sample B  Very easy to use           Average   \n",
      "6    Sample A   Sample B   Sample A           Average           Average   \n",
      "7    Sample B   Sample B   Sample B           Average           Average   \n",
      "8    Sample B   Sample A   Sample A       Easy to use           Average   \n",
      "9    Sample A   Sample B   Sample A       Easy to use       Unconfident   \n",
      "10   Sample B   Sample B   Sample B       Easy to use           Average   \n",
      "11   Sample B   Sample B   Sample A           Average           Average   \n",
      "12   Sample B   Sample B   Sample B  Difficult to use           Average   \n",
      "13   Sample A   Sample A   Sample A       Easy to use           Average   \n",
      "16   Sample B   Sample B   Sample A       Easy to use       Unconfident   \n",
      "\n",
      "     task_confidence  experience  \n",
      "0          Confident           1  \n",
      "1        Unconfident           0  \n",
      "2        Unconfident           1  \n",
      "3        Unconfident           1  \n",
      "4        Unconfident           1  \n",
      "5        Unconfident           1  \n",
      "6            Average           0  \n",
      "7   Very Unconfident           0  \n",
      "8     Very Confident           1  \n",
      "9            Average           1  \n",
      "10    Very Confident           0  \n",
      "11       Unconfident           1  \n",
      "12       Unconfident           1  \n",
      "13         Confident           0  \n",
      "16       Unconfident           1  \n"
     ]
    }
   ],
   "source": [
    "print(responses)"
   ]
  },
  {
   "cell_type": "code",
   "execution_count": 65,
   "id": "2b248d3f",
   "metadata": {},
   "outputs": [
    {
     "name": "stdout",
     "output_type": "stream",
     "text": [
      "[0, 1, 1, 0, 1, 1, 0, 1]\n"
     ]
    }
   ],
   "source": [
    "experience = responses.iloc[7:]['experience']\n",
    "experience.replace('No experience', 0, inplace=True)\n",
    "experience.replace('Average', 0, inplace=True)\n",
    "experience.replace('Relatively experienced', 1, inplace=True)\n",
    "experience.replace('Very experienced', 1, inplace=True)\n",
    "experience.replace('Expert', 1, inplace=True)\n",
    "experience = experience.tolist()"
   ]
  },
  {
   "cell_type": "code",
   "execution_count": 69,
   "id": "9b775ed8",
   "metadata": {},
   "outputs": [
    {
     "name": "stderr",
     "output_type": "stream",
     "text": [
      "/Users/yutakobayashi/anaconda3/envs/ml_env/lib/python3.9/site-packages/pandas/core/series.py:5258: SettingWithCopyWarning: \n",
      "A value is trying to be set on a copy of a slice from a DataFrame\n",
      "\n",
      "See the caveats in the documentation: https://pandas.pydata.org/pandas-docs/stable/user_guide/indexing.html#returning-a-view-versus-a-copy\n",
      "  self._update_inplace(result)\n"
     ]
    }
   ],
   "source": [
    "confidence = responses.iloc[7:]['task_confidence']\n",
    "confidence.replace('Very Unconfident', 0, inplace=True)\n",
    "confidence.replace('Unconfident', 0, inplace=True)\n",
    "confidence.replace('Average', np.NaN, inplace=True)\n",
    "confidence.replace('Confident', 1, inplace=True)\n",
    "confidence.replace('Very Confident', 1, inplace=True)\n",
    "confidence.dropna(inplace=True)\n",
    "confidence = confidence.tolist()"
   ]
  },
  {
   "cell_type": "code",
   "execution_count": 70,
   "id": "75c0077d",
   "metadata": {},
   "outputs": [
    {
     "data": {
      "text/plain": [
       "[0, 1, 1, 0, 0, 1, 0]"
      ]
     },
     "execution_count": 70,
     "metadata": {},
     "output_type": "execute_result"
    }
   ],
   "source": [
    "confidence"
   ]
  },
  {
   "cell_type": "code",
   "execution_count": null,
   "id": "7af018d0",
   "metadata": {},
   "outputs": [],
   "source": []
  }
 ],
 "metadata": {
  "kernelspec": {
   "display_name": "Python 3 (ipykernel)",
   "language": "python",
   "name": "python3"
  },
  "language_info": {
   "codemirror_mode": {
    "name": "ipython",
    "version": 3
   },
   "file_extension": ".py",
   "mimetype": "text/x-python",
   "name": "python",
   "nbconvert_exporter": "python",
   "pygments_lexer": "ipython3",
   "version": "3.8.15"
  }
 },
 "nbformat": 4,
 "nbformat_minor": 5
}
